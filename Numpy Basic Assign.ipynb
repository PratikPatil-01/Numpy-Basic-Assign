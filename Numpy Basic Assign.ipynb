{
 "cells": [
  {
   "cell_type": "code",
   "execution_count": 1,
   "id": "f4cc08a1-14b6-40c7-9bdc-d5336e4f06ec",
   "metadata": {},
   "outputs": [],
   "source": [
    "###Given Data\n",
    "import numpy as np\n",
    "list_ = ['1' , '2' , '3' , '4' , '5']\n",
    "array_list = np.array(object = list_)"
   ]
  },
  {
   "cell_type": "code",
   "execution_count": 2,
   "id": "87612ebe-0cbb-49ee-b1a5-33e7d48bb80f",
   "metadata": {},
   "outputs": [
    {
     "data": {
      "text/plain": [
       "array(['1', '2', '3', '4', '5'], dtype='<U1')"
      ]
     },
     "execution_count": 2,
     "metadata": {},
     "output_type": "execute_result"
    }
   ],
   "source": [
    "array_list"
   ]
  },
  {
   "cell_type": "code",
   "execution_count": null,
   "id": "c0fdeabc-db7e-4cce-94e7-695e82092b3a",
   "metadata": {},
   "outputs": [],
   "source": []
  },
  {
   "cell_type": "markdown",
   "id": "786f28ef-adb0-458d-ae88-42decd51479e",
   "metadata": {},
   "source": [
    "1) \n",
    "Yes, there can be a difference in the data type of variables list_ and array_list. Variable list_ is likely a regular Python list, while array_list might be a NumPy array or a Python list created using the array module. To determine the data types of both variables, you can use the type() function in Python."
   ]
  },
  {
   "cell_type": "code",
   "execution_count": 3,
   "id": "ebe534e4-89cd-4b00-bad4-301060741153",
   "metadata": {},
   "outputs": [
    {
     "name": "stdout",
     "output_type": "stream",
     "text": [
      "Data type of list_:  <class 'list'>\n",
      "Data type of array_list:  <class 'numpy.ndarray'>\n"
     ]
    }
   ],
   "source": [
    "# Assuming list_ and array_list are already defined\n",
    "# Printing the data types of both variables\n",
    "print(\"Data type of list_: \", type(list_))\n",
    "print(\"Data type of array_list: \", type(array_list))"
   ]
  },
  {
   "cell_type": "code",
   "execution_count": null,
   "id": "c039162a-1eba-4e1a-8649-8c2bbda8711c",
   "metadata": {},
   "outputs": [],
   "source": []
  },
  {
   "cell_type": "markdown",
   "id": "89d3e4da-84f8-42df-bc8e-56510ea01c4a",
   "metadata": {},
   "source": [
    "2) "
   ]
  },
  {
   "cell_type": "code",
   "execution_count": 4,
   "id": "ba824ed7-a6cd-4e5e-b2f9-7cf56d73c08b",
   "metadata": {},
   "outputs": [
    {
     "name": "stdout",
     "output_type": "stream",
     "text": [
      "Data types of elements in list_:\n",
      "<class 'str'>\n",
      "<class 'str'>\n",
      "<class 'str'>\n",
      "<class 'str'>\n",
      "<class 'str'>\n",
      "\n",
      "Data types of elements in array_list:\n",
      "<class 'numpy.str_'>\n",
      "<class 'numpy.str_'>\n",
      "<class 'numpy.str_'>\n",
      "<class 'numpy.str_'>\n",
      "<class 'numpy.str_'>\n"
     ]
    }
   ],
   "source": [
    "# Assuming list_ and array_list are already defined\n",
    "\n",
    "# Printing the data type of each element in list_\n",
    "print(\"Data types of elements in list_:\")\n",
    "for elem in list_:\n",
    "    print(type(elem))\n",
    "\n",
    "# Printing the data type of each element in array_list\n",
    "print(\"\\nData types of elements in array_list:\")\n",
    "for elem in array_list:\n",
    "    print(type(elem))"
   ]
  },
  {
   "cell_type": "code",
   "execution_count": null,
   "id": "64fd649d-44e7-4c26-8efa-1184c9815367",
   "metadata": {},
   "outputs": [],
   "source": []
  },
  {
   "cell_type": "markdown",
   "id": "1433f07e-8e39-44c8-9a93-cf95cbab1731",
   "metadata": {},
   "source": [
    "3) "
   ]
  },
  {
   "cell_type": "code",
   "execution_count": 5,
   "id": "2d52b5ba-24fb-43fe-9ad5-3e6280d29b55",
   "metadata": {},
   "outputs": [],
   "source": [
    "###Given Changes\n",
    "array_list = np.array(object = list_, dtype = int)"
   ]
  },
  {
   "cell_type": "markdown",
   "id": "cf63cdc9-2e22-4cc6-8b5e-6c040057bb42",
   "metadata": {},
   "source": [
    "Yes, there will be a difference in the data type of the elements present in list_ and array_list after the conversion. In the provided code, array_list is created by converting the Python list list_ to a NumPy array with the specified data type int. Therefore, all elements in array_list will have the data type int, whereas the elements in list_ may have various data types depending on the original list contents.\n",
    "</br>\n",
    "To print the data types of each element in both variables list_ and array_list, you can use the same approach as before, but considering that all elements in array_list will have the same data type int"
   ]
  },
  {
   "cell_type": "code",
   "execution_count": null,
   "id": "81bb879d-0d2c-4e08-8242-3607744e18f1",
   "metadata": {},
   "outputs": [],
   "source": []
  },
  {
   "cell_type": "code",
   "execution_count": 6,
   "id": "c7403f1f-3969-4a00-a1e8-2ddb3389fb22",
   "metadata": {},
   "outputs": [],
   "source": [
    "###Given Data\n",
    "import numpy as np\n",
    "num_list = [ [ 1 , 2 , 3 ] , [ 4 , 5 , 6 ] ]\n",
    "num_array = np.array(object = num_list)"
   ]
  },
  {
   "cell_type": "code",
   "execution_count": null,
   "id": "825fdbd1-e03e-485c-88ce-118060add7e9",
   "metadata": {},
   "outputs": [],
   "source": []
  },
  {
   "cell_type": "markdown",
   "id": "892b4805-560f-4c45-a0df-333e342083c0",
   "metadata": {},
   "source": [
    "4) "
   ]
  },
  {
   "cell_type": "code",
   "execution_count": 7,
   "id": "229a3616-52a8-470a-a0cf-a74c22da306e",
   "metadata": {},
   "outputs": [
    {
     "name": "stdout",
     "output_type": "stream",
     "text": [
      "Shape of num_array: (3, 3)\n",
      "Size of num_array: 9\n"
     ]
    }
   ],
   "source": [
    "import numpy as np\n",
    "\n",
    "# Assuming num_array is already defined\n",
    "# Example num_array\n",
    "num_array = np.array([[1, 2, 3], [4, 5, 6], [7, 8, 9]])\n",
    "\n",
    "# (i) Finding the shape of num_array\n",
    "shape = num_array.shape\n",
    "print(\"Shape of num_array:\", shape)\n",
    "\n",
    "# (ii) Finding the size of num_array\n",
    "size = num_array.size\n",
    "print(\"Size of num_array:\", size)"
   ]
  },
  {
   "cell_type": "code",
   "execution_count": null,
   "id": "4c6fe686-b22d-47c9-b1fd-d6f602295b85",
   "metadata": {},
   "outputs": [],
   "source": []
  },
  {
   "cell_type": "markdown",
   "id": "c29a5e4f-0363-4cb2-b951-d63dbef933f4",
   "metadata": {},
   "source": [
    "5) "
   ]
  },
  {
   "cell_type": "code",
   "execution_count": 8,
   "id": "bb151c67-d319-4ed1-b3cc-6b52f61d679e",
   "metadata": {},
   "outputs": [
    {
     "name": "stdout",
     "output_type": "stream",
     "text": [
      "NumPy array of zeros:\n",
      "[[0. 0. 0.]\n",
      " [0. 0. 0.]\n",
      " [0. 0. 0.]]\n"
     ]
    }
   ],
   "source": [
    "import numpy as np\n",
    "\n",
    "# Create a NumPy array of zeros with shape (3, 3)\n",
    "zero_array = np.zeros((3, 3))\n",
    "\n",
    "# Print the zero array\n",
    "print(\"NumPy array of zeros:\")\n",
    "print(zero_array)"
   ]
  },
  {
   "cell_type": "code",
   "execution_count": null,
   "id": "3d897d8b-8161-49ca-886e-e1c283b4bd8c",
   "metadata": {},
   "outputs": [],
   "source": []
  },
  {
   "cell_type": "markdown",
   "id": "8381abc3-01e0-4f00-8930-6f51acbd15f1",
   "metadata": {},
   "source": [
    "6) "
   ]
  },
  {
   "cell_type": "code",
   "execution_count": 9,
   "id": "d477dad3-e366-4c1e-b20d-acf49b9b281a",
   "metadata": {},
   "outputs": [
    {
     "name": "stdout",
     "output_type": "stream",
     "text": [
      "Identity matrix of shape (5, 5):\n",
      "[[1. 0. 0. 0. 0.]\n",
      " [0. 1. 0. 0. 0.]\n",
      " [0. 0. 1. 0. 0.]\n",
      " [0. 0. 0. 1. 0.]\n",
      " [0. 0. 0. 0. 1.]]\n"
     ]
    }
   ],
   "source": [
    "import numpy as np\n",
    "\n",
    "# Create an identity matrix of shape (5, 5)\n",
    "identity_matrix = np.eye(5)\n",
    "\n",
    "# Print the identity matrix\n",
    "print(\"Identity matrix of shape (5, 5):\")\n",
    "print(identity_matrix)"
   ]
  }
 ],
 "metadata": {
  "kernelspec": {
   "display_name": "Python 3 (ipykernel)",
   "language": "python",
   "name": "python3"
  },
  "language_info": {
   "codemirror_mode": {
    "name": "ipython",
    "version": 3
   },
   "file_extension": ".py",
   "mimetype": "text/x-python",
   "name": "python",
   "nbconvert_exporter": "python",
   "pygments_lexer": "ipython3",
   "version": "3.10.8"
  }
 },
 "nbformat": 4,
 "nbformat_minor": 5
}
